{
  "nbformat": 4,
  "nbformat_minor": 0,
  "metadata": {
    "colab": {
      "name": "Violent Headline Classifier Final.ipynb",
      "provenance": [],
      "authorship_tag": "ABX9TyMw+kDL+sWDr/WW+yjIvO90",
      "include_colab_link": true
    },
    "kernelspec": {
      "name": "python3",
      "display_name": "Python 3"
    }
  },
  "cells": [
    {
      "cell_type": "markdown",
      "metadata": {
        "id": "view-in-github",
        "colab_type": "text"
      },
      "source": [
        "<a href=\"https://colab.research.google.com/github/theAssassin28/HeadlineClassifier/blob/main/Violent_Headline_Classifier_Final.ipynb\" target=\"_parent\"><img src=\"https://colab.research.google.com/assets/colab-badge.svg\" alt=\"Open In Colab\"/></a>"
      ]
    },
    {
      "cell_type": "code",
      "metadata": {
        "id": "apOe7jwDeC6t",
        "outputId": "43c3fa86-eb4a-4d4e-a75d-b61a081565d1",
        "colab": {
          "base_uri": "https://localhost:8080/",
          "height": 125
        }
      },
      "source": [
        "# Importing libraries\n",
        "import pandas as pd\n",
        "from matplotlib import pyplot as plt\n",
        "import tensorflow as tf\n",
        "!pip install tensorflow-hub\n",
        "import tensorflow_hub as hub"
      ],
      "execution_count": 49,
      "outputs": [
        {
          "output_type": "stream",
          "text": [
            "Requirement already satisfied: tensorflow-hub in /usr/local/lib/python3.6/dist-packages (0.9.0)\n",
            "Requirement already satisfied: numpy>=1.12.0 in /usr/local/lib/python3.6/dist-packages (from tensorflow-hub) (1.18.5)\n",
            "Requirement already satisfied: protobuf>=3.8.0 in /usr/local/lib/python3.6/dist-packages (from tensorflow-hub) (3.12.4)\n",
            "Requirement already satisfied: six>=1.12.0 in /usr/local/lib/python3.6/dist-packages (from tensorflow-hub) (1.15.0)\n",
            "Requirement already satisfied: setuptools in /usr/local/lib/python3.6/dist-packages (from protobuf>=3.8.0->tensorflow-hub) (50.3.0)\n"
          ],
          "name": "stdout"
        }
      ]
    },
    {
      "cell_type": "code",
      "metadata": {
        "id": "YEFVgDBEeMI3"
      },
      "source": [
        "url = 'https://raw.githubusercontent.com/theAssassin28/HeadlineClassifier/main/violent_train.txt'\n",
        "df_not_violent = pd.read_csv(url,sep = \"\\n\",header = None)"
      ],
      "execution_count": 50,
      "outputs": []
    },
    {
      "cell_type": "code",
      "metadata": {
        "id": "k52XPwFoeaOC"
      },
      "source": [
        "url = 'https://raw.githubusercontent.com/theAssassin28/HeadlineClassifier/main/not_violent_train.txt'\n",
        "df_not_violent = pd.read_csv(url,sep = \"\\n\",header = None)"
      ],
      "execution_count": 51,
      "outputs": []
    },
    {
      "cell_type": "code",
      "metadata": {
        "id": "90gZIOR8eiLn"
      },
      "source": [
        "# Labelling the data - 0 if the given statement is not violent otherwise labelled 1\n",
        "df_not_violent[\"labels\"] = 0\n",
        "df_violent[\"labels\"] = 1"
      ],
      "execution_count": 52,
      "outputs": []
    },
    {
      "cell_type": "code",
      "metadata": {
        "id": "tS4Nrpxzei_w"
      },
      "source": [
        "# Joining the dataframes\n",
        "df = pd.concat([df_violent,df_not_violent], ignore_index= True)"
      ],
      "execution_count": 53,
      "outputs": []
    },
    {
      "cell_type": "code",
      "metadata": {
        "id": "qIJI-_33eloL"
      },
      "source": [
        "# Randomly shuffling the data frame\n",
        "df = df.sample(frac = 1)"
      ],
      "execution_count": 54,
      "outputs": []
    },
    {
      "cell_type": "code",
      "metadata": {
        "id": "sLbe4n19eoR5"
      },
      "source": [
        "# Installing the tensorflow hub neural network with normalization\n",
        "hub_layer = hub.KerasLayer(\"https://tfhub.dev/google/nnlm-en-dim128-with-normalization/2\", input_shape=[], dtype=tf.string)"
      ],
      "execution_count": 55,
      "outputs": []
    },
    {
      "cell_type": "code",
      "metadata": {
        "id": "FHvRKXrpeqgJ"
      },
      "source": [
        "# The model consists of 4 layers - 2 to extract features and one is the hub layer to covert the text. The last layer is the output layer.\n",
        "model = tf.keras.Sequential()\n",
        "model.add(hub_layer)\n",
        "model.add(tf.keras.layers.Dense(256, activation='relu'))\n",
        "model.add(tf.keras.layers.Dense(128, activation='relu'))\n",
        "model.add(tf.keras.layers.Dense(1, activation='sigmoid'))"
      ],
      "execution_count": 56,
      "outputs": []
    },
    {
      "cell_type": "code",
      "metadata": {
        "id": "_10Zb4q0euBD"
      },
      "source": [
        "# Compiling the model using adam optimizer and a probability density loss function\n",
        "model.compile(optimizer='adam', loss=tf.keras.losses.BinaryCrossentropy(from_logits=True), metrics=['accuracy'])"
      ],
      "execution_count": 57,
      "outputs": []
    },
    {
      "cell_type": "code",
      "metadata": {
        "id": "7u90awxAexXu",
        "outputId": "6f1fcede-5e93-4d36-c564-fd9087763293",
        "colab": {
          "base_uri": "https://localhost:8080/",
          "height": 721
        }
      },
      "source": [
        "# Fitting the model to the data\n",
        "history = model.fit(df[0], df[\"labels\"], batch_size = 50, epochs = 20, verbose = 2, validation_split= 0.2, shuffle = True)"
      ],
      "execution_count": 58,
      "outputs": [
        {
          "output_type": "stream",
          "text": [
            "Epoch 1/20\n",
            "98/98 - 1s - loss: 0.5454 - accuracy: 0.9174 - val_loss: 0.5075 - val_accuracy: 0.9728\n",
            "Epoch 2/20\n",
            "98/98 - 1s - loss: 0.5143 - accuracy: 0.9753 - val_loss: 0.5030 - val_accuracy: 0.9794\n",
            "Epoch 3/20\n",
            "98/98 - 1s - loss: 0.5096 - accuracy: 0.9845 - val_loss: 0.5026 - val_accuracy: 0.9794\n",
            "Epoch 4/20\n",
            "98/98 - 1s - loss: 0.5077 - accuracy: 0.9885 - val_loss: 0.5016 - val_accuracy: 0.9819\n",
            "Epoch 5/20\n",
            "98/98 - 1s - loss: 0.5075 - accuracy: 0.9876 - val_loss: 0.5006 - val_accuracy: 0.9852\n",
            "Epoch 6/20\n",
            "98/98 - 1s - loss: 0.5066 - accuracy: 0.9899 - val_loss: 0.4998 - val_accuracy: 0.9885\n",
            "Epoch 7/20\n",
            "98/98 - 1s - loss: 0.5049 - accuracy: 0.9940 - val_loss: 0.5015 - val_accuracy: 0.9810\n",
            "Epoch 8/20\n",
            "98/98 - 1s - loss: 0.5059 - accuracy: 0.9909 - val_loss: 0.5001 - val_accuracy: 0.9876\n",
            "Epoch 9/20\n",
            "98/98 - 1s - loss: 0.5046 - accuracy: 0.9942 - val_loss: 0.5000 - val_accuracy: 0.9860\n",
            "Epoch 10/20\n",
            "98/98 - 1s - loss: 0.5042 - accuracy: 0.9946 - val_loss: 0.5004 - val_accuracy: 0.9876\n",
            "Epoch 11/20\n",
            "98/98 - 1s - loss: 0.5035 - accuracy: 0.9957 - val_loss: 0.4999 - val_accuracy: 0.9860\n",
            "Epoch 12/20\n",
            "98/98 - 1s - loss: 0.5037 - accuracy: 0.9961 - val_loss: 0.5008 - val_accuracy: 0.9843\n",
            "Epoch 13/20\n",
            "98/98 - 1s - loss: 0.5037 - accuracy: 0.9957 - val_loss: 0.5061 - val_accuracy: 0.9695\n",
            "Epoch 14/20\n",
            "98/98 - 1s - loss: 0.5039 - accuracy: 0.9953 - val_loss: 0.5003 - val_accuracy: 0.9843\n",
            "Epoch 15/20\n",
            "98/98 - 1s - loss: 0.5031 - accuracy: 0.9969 - val_loss: 0.5001 - val_accuracy: 0.9852\n",
            "Epoch 16/20\n",
            "98/98 - 1s - loss: 0.5030 - accuracy: 0.9971 - val_loss: 0.4998 - val_accuracy: 0.9860\n",
            "Epoch 17/20\n",
            "98/98 - 1s - loss: 0.5027 - accuracy: 0.9975 - val_loss: 0.5000 - val_accuracy: 0.9852\n",
            "Epoch 18/20\n",
            "98/98 - 1s - loss: 0.5027 - accuracy: 0.9975 - val_loss: 0.4999 - val_accuracy: 0.9868\n",
            "Epoch 19/20\n",
            "98/98 - 1s - loss: 0.5026 - accuracy: 0.9977 - val_loss: 0.5003 - val_accuracy: 0.9860\n",
            "Epoch 20/20\n",
            "98/98 - 1s - loss: 0.5025 - accuracy: 0.9977 - val_loss: 0.4996 - val_accuracy: 0.9876\n"
          ],
          "name": "stdout"
        }
      ]
    },
    {
      "cell_type": "code",
      "metadata": {
        "id": "mz9B2kw3xf-K"
      },
      "source": [
        "epochs = history.epoch\n",
        "histdf = pd.DataFrame(history.history)"
      ],
      "execution_count": 59,
      "outputs": []
    },
    {
      "cell_type": "code",
      "metadata": {
        "id": "19INEot8yh5i",
        "outputId": "567562bc-f7f8-4c66-a408-60e62fc4e051",
        "colab": {
          "base_uri": "https://localhost:8080/",
          "height": 279
        }
      },
      "source": [
        "plt.figure()\n",
        "plt.xlabel(\"Epoch\")\n",
        "plt.ylabel(\"Value\")\n",
        "list_of_metrics = ['accuracy']\n",
        "for m in list_of_metrics:\n",
        "  x = histdf[m]\n",
        "  plt.plot(epochs[1:], x[1:], scalex=True, scaley=True, label=m,)\n",
        "\n",
        "  plt.legend()             #The scale is only of few % points so the \n",
        "                           #variations which might be seen are actaully very small"
      ],
      "execution_count": 60,
      "outputs": [
        {
          "output_type": "display_data",
          "data": {
            "image/png": "[encoded data removed]",
            "text/plain": [
              "<Figure size 432x288 with 1 Axes>"
            ]
          },
          "metadata": {
            "tags": [],
            "needs_background": "light"
          }
        }
      ]
    }
  ]
}